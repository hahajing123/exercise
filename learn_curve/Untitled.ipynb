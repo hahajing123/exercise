{
 "cells": [
  {
   "cell_type": "code",
   "execution_count": 1,
   "metadata": {},
   "outputs": [
    {
     "data": {
      "text/html": [
       "<div>\n",
       "<style scoped>\n",
       "    .dataframe tbody tr th:only-of-type {\n",
       "        vertical-align: middle;\n",
       "    }\n",
       "\n",
       "    .dataframe tbody tr th {\n",
       "        vertical-align: top;\n",
       "    }\n",
       "\n",
       "    .dataframe thead th {\n",
       "        text-align: right;\n",
       "    }\n",
       "</style>\n",
       "<table border=\"1\" class=\"dataframe\">\n",
       "  <thead>\n",
       "    <tr style=\"text-align: right;\">\n",
       "      <th></th>\n",
       "      <th>x1</th>\n",
       "      <th>x2</th>\n",
       "      <th>y</th>\n",
       "    </tr>\n",
       "  </thead>\n",
       "  <tbody>\n",
       "    <tr>\n",
       "      <th>0</th>\n",
       "      <td>0.336494</td>\n",
       "      <td>-0.985951</td>\n",
       "      <td>-1.0</td>\n",
       "    </tr>\n",
       "    <tr>\n",
       "      <th>1</th>\n",
       "      <td>-0.011043</td>\n",
       "      <td>-0.105529</td>\n",
       "      <td>1.0</td>\n",
       "    </tr>\n",
       "    <tr>\n",
       "      <th>2</th>\n",
       "      <td>0.238160</td>\n",
       "      <td>-0.617417</td>\n",
       "      <td>1.0</td>\n",
       "    </tr>\n",
       "    <tr>\n",
       "      <th>3</th>\n",
       "      <td>-0.366783</td>\n",
       "      <td>-0.713819</td>\n",
       "      <td>1.0</td>\n",
       "    </tr>\n",
       "    <tr>\n",
       "      <th>4</th>\n",
       "      <td>1.221923</td>\n",
       "      <td>-1.039399</td>\n",
       "      <td>-1.0</td>\n",
       "    </tr>\n",
       "  </tbody>\n",
       "</table>\n",
       "</div>"
      ],
      "text/plain": [
       "         x1        x2    y\n",
       "0  0.336494 -0.985951 -1.0\n",
       "1 -0.011043 -0.105529  1.0\n",
       "2  0.238160 -0.617417  1.0\n",
       "3 -0.366783 -0.713819  1.0\n",
       "4  1.221923 -1.039399 -1.0"
      ]
     },
     "execution_count": 1,
     "metadata": {},
     "output_type": "execute_result"
    }
   ],
   "source": [
    "import pandas as pd\n",
    "data = pd.read_csv('data.csv')\n",
    "data.head(5)\n"
   ]
  },
  {
   "cell_type": "code",
   "execution_count": 2,
   "metadata": {},
   "outputs": [
    {
     "name": "stdout",
     "output_type": "stream",
     "text": [
      "[[ 3.36493584e-01 -9.85950993e-01]\n",
      " [-1.10425297e-02 -1.05528562e-01]\n",
      " [ 2.38159509e-01 -6.17416665e-01]\n",
      " [-3.66782883e-01 -7.13818717e-01]\n",
      " [ 1.22192307e+00 -1.03939899e+00]\n",
      " [-1.30456800e+00  5.92618470e-01]\n",
      " [-4.07809099e-01 -5.09110510e-01]\n",
      " [ 8.93188942e-01  1.18285986e+00]\n",
      " [-5.46337259e-03 -5.89551229e-01]\n",
      " [ 4.06423768e-01  6.11062235e-01]\n",
      " [-1.45506767e-01  3.65463997e-02]\n",
      " [-4.04887876e-02 -5.66500320e-02]\n",
      " [ 1.60355998e+00  9.08139380e-02]\n",
      " [-6.04838450e-01 -1.11340205e-01]\n",
      " [-5.34401237e-01 -1.04875779e+00]\n",
      " [ 9.77706756e-01 -1.35281793e+00]\n",
      " [-4.22036925e-01 -2.74418974e-01]\n",
      " [ 1.69051345e+00 -9.29766839e-01]\n",
      " [ 6.55534595e-01 -2.44533046e-01]\n",
      " [ 3.84609916e-01 -3.34328466e-01]\n",
      " [-1.09341027e-01  2.73694976e-01]\n",
      " [-1.28710022e+00 -4.06756443e-01]\n",
      " [ 4.35217566e-01 -1.92221317e-01]\n",
      " [ 5.55208008e-02  1.02401188e+00]\n",
      " [ 1.50882171e+00 -7.99489053e-01]\n",
      " [ 7.59323066e-01  7.75189603e-01]\n",
      " [ 9.67078497e-01 -7.07726242e-01]\n",
      " [-2.31301769e-02  1.34060202e+00]\n",
      " [-2.74591143e-01 -5.49682228e-01]\n",
      " [-1.20807491e+00 -1.41385343e+00]\n",
      " [ 3.81259080e-01 -8.52947496e-01]\n",
      " [ 4.04870623e-01 -3.85646431e-01]\n",
      " [ 1.73135931e-02  7.87433468e-01]\n",
      " [-6.50474497e-01  3.77281548e-01]\n",
      " [-1.75095704e-01  5.57524657e-01]\n",
      " [ 9.07470130e-02  1.46764389e-01]\n",
      " [-2.34063354e-01 -1.14282729e+00]\n",
      " [-2.32405022e-02  3.29251073e-02]\n",
      " [-9.81778533e-01 -6.14024199e-01]\n",
      " [ 8.63118366e-01  6.26452590e-01]\n",
      " [-4.94201528e-01 -1.24586272e+00]\n",
      " [ 5.60657441e-01  9.60463848e-01]\n",
      " [ 5.17532460e-01 -1.01562043e+00]\n",
      " [-1.07674778e+00  1.64110649e+00]\n",
      " [-4.02951468e-01  1.74395284e+00]\n",
      " [ 1.26250129e+00 -8.80456579e-02]\n",
      " [-1.13554605e+00  6.91274080e-01]\n",
      " [-1.88154071e+00  5.79520023e-01]\n",
      " [ 1.61949374e+00 -1.16815367e+00]\n",
      " [-1.67382069e-01  3.18140980e-01]\n",
      " [-7.31515970e-01 -6.26052632e-01]\n",
      " [ 1.49620521e-01  1.24000574e+00]\n",
      " [ 1.16720084e+00  5.21580750e-01]\n",
      " [-4.36063304e-01  4.36803113e-02]\n",
      " [-8.27638903e-01  2.75166404e-01]\n",
      " [ 1.36953107e+00  9.71233523e-01]\n",
      " [ 6.90612759e-01 -1.27804625e+00]\n",
      " [ 1.26986688e+00  5.75808793e-01]\n",
      " [ 2.08866021e-01 -1.46742455e-01]\n",
      " [-4.37203223e-01  5.21165071e-01]\n",
      " [-3.78363762e-01 -7.69780149e-02]\n",
      " [-4.23820115e-01 -8.36137210e-01]\n",
      " [-5.60756181e-01 -4.10377754e-01]\n",
      " [ 3.36052961e-01 -2.24802048e-01]\n",
      " [-1.33543073e+00 -9.90358481e-01]\n",
      " [-2.89733997e-02  4.41010128e-01]\n",
      " [-1.31939064e+00 -3.77647099e-01]\n",
      " [-8.08411081e-01  1.22837904e+00]\n",
      " [ 1.35995944e+00  1.12161871e+00]\n",
      " [-8.72069364e-01 -2.52522726e-01]\n",
      " [-1.88887517e+00  1.44098536e-01]\n",
      " [ 1.60845823e+00 -7.74759254e-01]\n",
      " [-3.58639910e-01  7.84305200e-01]\n",
      " [ 5.20332593e-01 -6.21854007e-01]\n",
      " [ 3.06204274e-01  2.54480897e-01]\n",
      " [-1.51072939e+00  5.94704976e-03]\n",
      " [ 9.56067338e-01 -5.33023016e-01]\n",
      " [ 2.88866739e-01 -7.25155662e-01]\n",
      " [ 4.03468554e-01 -1.75945771e+00]\n",
      " [ 8.59415686e-02 -9.58846823e-01]\n",
      " [ 3.81957047e-01  1.24143718e-02]\n",
      " [ 3.36004017e-01 -2.59620738e-01]\n",
      " [ 1.02869640e+00 -7.85051442e-01]\n",
      " [-1.81058442e-01  2.66871780e-03]\n",
      " [ 2.79139768e-01  1.48068778e-01]\n",
      " [-7.00587484e-01  1.18422441e-01]\n",
      " [-4.74343136e-01 -1.62548760e-01]\n",
      " [-1.29581527e+00  7.55926314e-01]\n",
      " [ 1.40673268e-01 -1.60264376e+00]\n",
      " [ 3.28196143e-01  4.44738576e-01]\n",
      " [-9.40761503e-01 -1.00437673e+00]\n",
      " [ 4.17765482e-01  1.11423359e+00]\n",
      " [-8.02874872e-01 -1.27790347e+00]\n",
      " [-5.96842012e-01  5.93623894e-01]\n",
      " [-1.12331263e-01  1.74318514e-01]\n",
      " [-1.45753325e+00 -1.30679050e+00]\n",
      " [ 1.63561447e+00  2.73942963e-01]\n",
      " [ 1.13120402e-01  2.04651462e-02]\n",
      " [ 7.53405102e-01  1.93830122e-01]\n",
      " [-5.38129041e-01 -7.23035827e-04]]\n",
      "[-1.  1.  1.  1. -1. -1.  1. -1.  1.  1.  1.  1. -1.  1. -1. -1.  1. -1.\n",
      "  1.  1.  1. -1.  1. -1. -1. -1. -1. -1.  1. -1.  1.  1.  1.  1.  1.  1.\n",
      " -1.  1. -1. -1. -1. -1. -1. -1. -1. -1. -1. -1. -1.  1.  1. -1. -1.  1.\n",
      "  1. -1. -1. -1.  1.  1.  1.  1.  1.  1. -1.  1. -1. -1. -1.  1. -1. -1.\n",
      "  1.  1.  1. -1. -1.  1. -1.  1.  1.  1. -1.  1.  1.  1.  1. -1. -1.  1.\n",
      " -1. -1. -1.  1.  1. -1. -1.  1.  1.  1.]\n"
     ]
    }
   ],
   "source": [
    "import numpy as np\n",
    "X = np.array(data[['x1','x2']])\n",
    "y = np.array(data['y'])\n",
    "print(X)\n",
    "print(y)"
   ]
  },
  {
   "cell_type": "code",
   "execution_count": 3,
   "metadata": {},
   "outputs": [],
   "source": [
    "np.random.seed(55)\n",
    "from sklearn.linear_model import LogisticRegression\n",
    "from sklearn.ensemble import GradientBoostingClassifier\n",
    "from sklearn.svm import SVC\n"
   ]
  },
  {
   "cell_type": "code",
   "execution_count": 4,
   "metadata": {},
   "outputs": [],
   "source": [
    "from sklearn.model_selection import learning_curve\n",
    "import matplotlib.pyplot as plt\n",
    "# It is good to randomize the data before drawing Learning Curves\n",
    "def randomize(X, Y):\n",
    "    permutation = np.random.permutation(Y.shape[0])\n",
    "    X2 = X[permutation,:]\n",
    "    Y2 = Y[permutation]\n",
    "    return X2, Y2\n",
    "X2, y2 = randomize(X, y)\n",
    "def draw_learning_curves(X, y, estimator, num_trainings,title=\"Learning Curves\"):\n",
    "    train_sizes, train_scores, test_scores = learning_curve(\n",
    "        estimator, X2, y2, cv=None, n_jobs=1, train_sizes=np.linspace(.1, 1.0, num_trainings))\n",
    "\n",
    "    train_scores_mean = np.mean(train_scores, axis=1)\n",
    "    train_scores_std = np.std(train_scores, axis=1)\n",
    "    test_scores_mean = np.mean(test_scores, axis=1)\n",
    "    test_scores_std = np.std(test_scores, axis=1)\n",
    "\n",
    "    plt.grid()\n",
    "\n",
    "    plt.title(title)\n",
    "    plt.xlabel(\"Training examples\")\n",
    "    plt.ylabel(\"Score\")\n",
    "\n",
    "    plt.plot(train_scores_mean, 'o-', color=\"g\",\n",
    "             label=\"Training score\")\n",
    "    plt.plot(test_scores_mean, 'o-', color=\"y\",\n",
    "             label=\"Cross-validation score\")\n",
    "\n",
    "\n",
    "    plt.legend(loc=\"best\")\n",
    "\n",
    "    plt.show()"
   ]
  },
  {
   "cell_type": "code",
   "execution_count": 5,
   "metadata": {},
   "outputs": [],
   "source": [
    "### Logistic Regression\n",
    "estimator_logistic = LogisticRegression()\n",
    "\n",
    "### Decision Tree\n",
    "estimator_tree = GradientBoostingClassifier()\n",
    "\n",
    "### Support Vector Machine\n",
    "estimator_svc = SVC(kernel='rbf', gamma=1000)"
   ]
  },
  {
   "cell_type": "code",
   "execution_count": 6,
   "metadata": {},
   "outputs": [
    {
     "data": {
      "image/png": "[encoded data removed]",
      "text/plain": [
       "<Figure size 432x288 with 1 Axes>"
      ]
     },
     "metadata": {},
     "output_type": "display_data"
    }
   ],
   "source": [
    "draw_learning_curves(X,y,estimator_logistic,10,'LogisticRegression Learning Curves')"
   ]
  },
  {
   "cell_type": "code",
   "execution_count": 31,
   "metadata": {},
   "outputs": [
    {
     "data": {
      "image/png": "[encoded data removed]",
      "text/plain": [
       "<Figure size 432x288 with 1 Axes>"
      ]
     },
     "metadata": {},
     "output_type": "display_data"
    }
   ],
   "source": [
    "draw_learning_curves(X,y,estimator_tree,10,\"DecisionTree Learning Curves\")"
   ]
  },
  {
   "cell_type": "code",
   "execution_count": 30,
   "metadata": {},
   "outputs": [
    {
     "data": {
      "image/png": "[encoded data removed]",
      "text/plain": [
       "<Figure size 432x288 with 1 Axes>"
      ]
     },
     "metadata": {},
     "output_type": "display_data"
    }
   ],
   "source": [
    "draw_learning_curves(X,y,estimator_svc,10,'SVC Learning Curves')"
   ]
  },
  {
   "cell_type": "code",
   "execution_count": null,
   "metadata": {},
   "outputs": [],
   "source": []
  },
  {
   "cell_type": "code",
   "execution_count": null,
   "metadata": {},
   "outputs": [],
   "source": []
  },
  {
   "cell_type": "code",
   "execution_count": null,
   "metadata": {},
   "outputs": [],
   "source": []
  }
 ],
 "metadata": {
  "kernelspec": {
   "display_name": "Python 3",
   "language": "python",
   "name": "python3"
  },
  "language_info": {
   "codemirror_mode": {
    "name": "ipython",
    "version": 3
   },
   "file_extension": ".py",
   "mimetype": "text/x-python",
   "name": "python",
   "nbconvert_exporter": "python",
   "pygments_lexer": "ipython3",
   "version": "3.6.5"
  }
 },
 "nbformat": 4,
 "nbformat_minor": 2
}
